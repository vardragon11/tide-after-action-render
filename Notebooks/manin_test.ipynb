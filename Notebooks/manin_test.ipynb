{
  "nbformat": 4,
  "nbformat_minor": 0,
  "metadata": {
    "colab": {
      "provenance": [],
      "gpuType": "T4"
    },
    "kernelspec": {
      "name": "python3",
      "display_name": "Python 3"
    },
    "language_info": {
      "name": "python"
    }
  },
  "cells": [
    {
      "cell_type": "code",
      "source": [
        "# Install system-level dependencies needed for manim\n",
        "!sudo apt update\n",
        "!sudo apt install -y libcairo2-dev libpango1.0-dev ffmpeg\n",
        "\n",
        "# Install a stable version of Manim that works in Colab\n",
        "!pip install manim==0.17.3\n"
      ],
      "metadata": {
        "colab": {
          "base_uri": "https://localhost:8080/"
        },
        "id": "86kCUxtj1u21",
        "outputId": "2ae368a6-f848-4133-a433-0970e8065499"
      },
      "execution_count": 2,
      "outputs": [
        {
          "output_type": "stream",
          "name": "stdout",
          "text": [
            "\u001b[33m\r0% [Working]\u001b[0m\r            \rGet:1 http://security.ubuntu.com/ubuntu jammy-security InRelease [129 kB]\n",
            "\u001b[33m\r0% [Connecting to archive.ubuntu.com] [1 InRelease 14.2 kB/129 kB 11%] [Connect\u001b[0m\r                                                                               \rHit:2 https://cloud.r-project.org/bin/linux/ubuntu jammy-cran40/ InRelease\n",
            "\u001b[33m\r0% [Connecting to archive.ubuntu.com] [1 InRelease 24.6 kB/129 kB 19%] [Connect\u001b[0m\r                                                                               \rHit:3 https://developer.download.nvidia.com/compute/cuda/repos/ubuntu2204/x86_64  InRelease\n",
            "\u001b[33m\r0% [Connecting to archive.ubuntu.com (91.189.91.83)] [1 InRelease 43.1 kB/129 k\u001b[0m\r                                                                               \rHit:4 http://archive.ubuntu.com/ubuntu jammy InRelease\n",
            "\u001b[33m\r0% [Waiting for headers] [1 InRelease 111 kB/129 kB 86%] [Waiting for headers] \u001b[0m\u001b[33m\r0% [Waiting for headers] [Waiting for headers] [Connecting to ppa.launchpadcont\u001b[0m\r                                                                               \rGet:5 http://archive.ubuntu.com/ubuntu jammy-updates InRelease [128 kB]\n",
            "Hit:6 https://r2u.stat.illinois.edu/ubuntu jammy InRelease\n",
            "Get:7 http://archive.ubuntu.com/ubuntu jammy-backports InRelease [127 kB]\n",
            "Hit:8 https://ppa.launchpadcontent.net/deadsnakes/ppa/ubuntu jammy InRelease\n",
            "Hit:9 https://ppa.launchpadcontent.net/graphics-drivers/ppa/ubuntu jammy InRelease\n",
            "Hit:10 https://ppa.launchpadcontent.net/ubuntugis/ppa/ubuntu jammy InRelease\n",
            "Get:11 http://archive.ubuntu.com/ubuntu jammy-updates/main amd64 Packages [3,092 kB]\n",
            "Fetched 3,476 kB in 1s (2,347 kB/s)\n",
            "Reading package lists... Done\n",
            "Building dependency tree... Done\n",
            "Reading state information... Done\n",
            "44 packages can be upgraded. Run 'apt list --upgradable' to see them.\n",
            "\u001b[1;33mW: \u001b[0mSkipping acquire of configured file 'main/source/Sources' as repository 'https://r2u.stat.illinois.edu/ubuntu jammy InRelease' does not seem to provide it (sources.list entry misspelt?)\u001b[0m\n",
            "Reading package lists... Done\n",
            "Building dependency tree... Done\n",
            "Reading state information... Done\n",
            "libcairo2-dev is already the newest version (1.16.0-5ubuntu2).\n",
            "libpango1.0-dev is already the newest version (1.50.6+ds-2ubuntu1).\n",
            "ffmpeg is already the newest version (7:4.4.2-0ubuntu0.22.04.1).\n",
            "0 upgraded, 0 newly installed, 0 to remove and 44 not upgraded.\n",
            "Requirement already satisfied: manim==0.17.3 in /usr/local/lib/python3.11/dist-packages (0.17.3)\n",
            "Requirement already satisfied: Pillow<10.0,>=9.1 in /usr/local/lib/python3.11/dist-packages (from manim==0.17.3) (9.5.0)\n",
            "Requirement already satisfied: Pygments<3.0.0,>=2.10.0 in /usr/local/lib/python3.11/dist-packages (from manim==0.17.3) (2.18.0)\n",
            "Requirement already satisfied: click<=9.0,>=7.2 in /usr/local/lib/python3.11/dist-packages (from manim==0.17.3) (8.1.8)\n",
            "Requirement already satisfied: click-default-group<2.0.0,>=1.2.2 in /usr/local/lib/python3.11/dist-packages (from manim==0.17.3) (1.2.4)\n",
            "Requirement already satisfied: cloup<0.14.0,>=0.13.0 in /usr/local/lib/python3.11/dist-packages (from manim==0.17.3) (0.13.1)\n",
            "Requirement already satisfied: colour<0.2.0,>=0.1.5 in /usr/local/lib/python3.11/dist-packages (from manim==0.17.3) (0.1.5)\n",
            "Requirement already satisfied: decorator<6.0.0,>=5.0.7 in /usr/local/lib/python3.11/dist-packages (from manim==0.17.3) (5.2.1)\n",
            "Requirement already satisfied: isosurfaces==0.1.0 in /usr/local/lib/python3.11/dist-packages (from manim==0.17.3) (0.1.0)\n",
            "Requirement already satisfied: manimpango<0.5.0,>=0.4.0.post0 in /usr/local/lib/python3.11/dist-packages (from manim==0.17.3) (0.4.4)\n",
            "Requirement already satisfied: mapbox-earcut<2.0.0,>=1.0.0 in /usr/local/lib/python3.11/dist-packages (from manim==0.17.3) (1.0.3)\n",
            "Requirement already satisfied: moderngl<6.0.0,>=5.6.3 in /usr/local/lib/python3.11/dist-packages (from manim==0.17.3) (5.12.0)\n",
            "Requirement already satisfied: moderngl-window<3.0.0,>=2.3.0 in /usr/local/lib/python3.11/dist-packages (from manim==0.17.3) (2.4.4)\n",
            "Requirement already satisfied: networkx<3.0,>=2.5 in /usr/local/lib/python3.11/dist-packages (from manim==0.17.3) (2.8.8)\n",
            "Requirement already satisfied: numpy<2.0,>=1.19 in /usr/local/lib/python3.11/dist-packages (from manim==0.17.3) (1.26.4)\n",
            "Requirement already satisfied: pycairo<2.0,>=1.21 in /usr/local/lib/python3.11/dist-packages (from manim==0.17.3) (1.27.0)\n",
            "Requirement already satisfied: pydub<0.26.0,>=0.25.1 in /usr/local/lib/python3.11/dist-packages (from manim==0.17.3) (0.25.1)\n",
            "Requirement already satisfied: requests<3.0.0,>=2.26.0 in /usr/local/lib/python3.11/dist-packages (from manim==0.17.3) (2.32.3)\n",
            "Requirement already satisfied: rich!=12.0.0,>=6.0 in /usr/local/lib/python3.11/dist-packages (from manim==0.17.3) (13.9.4)\n",
            "Requirement already satisfied: scipy<2.0.0,>=1.7.3 in /usr/local/lib/python3.11/dist-packages (from manim==0.17.3) (1.14.1)\n",
            "Requirement already satisfied: screeninfo<0.9,>=0.8 in /usr/local/lib/python3.11/dist-packages (from manim==0.17.3) (0.8.1)\n",
            "Requirement already satisfied: skia-pathops<0.8.0,>=0.7.0 in /usr/local/lib/python3.11/dist-packages (from manim==0.17.3) (0.7.4)\n",
            "Requirement already satisfied: srt<4.0.0,>=3.5.0 in /usr/local/lib/python3.11/dist-packages (from manim==0.17.3) (3.5.3)\n",
            "Requirement already satisfied: svgelements<2.0.0,>=1.8.0 in /usr/local/lib/python3.11/dist-packages (from manim==0.17.3) (1.9.6)\n",
            "Requirement already satisfied: tqdm<5.0.0,>=4.62.3 in /usr/local/lib/python3.11/dist-packages (from manim==0.17.3) (4.67.1)\n",
            "Requirement already satisfied: watchdog<3.0.0,>=2.1.6 in /usr/local/lib/python3.11/dist-packages (from manim==0.17.3) (2.3.1)\n",
            "Requirement already satisfied: glcontext>=3.0.0 in /usr/local/lib/python3.11/dist-packages (from moderngl<6.0.0,>=5.6.3->manim==0.17.3) (3.0.0)\n",
            "Requirement already satisfied: pyglet>=2.0dev23 in /usr/local/lib/python3.11/dist-packages (from moderngl-window<3.0.0,>=2.3.0->manim==0.17.3) (2.1.3)\n",
            "Requirement already satisfied: pyrr<1,>=0.10.3 in /usr/local/lib/python3.11/dist-packages (from moderngl-window<3.0.0,>=2.3.0->manim==0.17.3) (0.10.3)\n",
            "Requirement already satisfied: charset-normalizer<4,>=2 in /usr/local/lib/python3.11/dist-packages (from requests<3.0.0,>=2.26.0->manim==0.17.3) (3.4.1)\n",
            "Requirement already satisfied: idna<4,>=2.5 in /usr/local/lib/python3.11/dist-packages (from requests<3.0.0,>=2.26.0->manim==0.17.3) (3.10)\n",
            "Requirement already satisfied: urllib3<3,>=1.21.1 in /usr/local/lib/python3.11/dist-packages (from requests<3.0.0,>=2.26.0->manim==0.17.3) (2.3.0)\n",
            "Requirement already satisfied: certifi>=2017.4.17 in /usr/local/lib/python3.11/dist-packages (from requests<3.0.0,>=2.26.0->manim==0.17.3) (2025.1.31)\n",
            "Requirement already satisfied: markdown-it-py>=2.2.0 in /usr/local/lib/python3.11/dist-packages (from rich!=12.0.0,>=6.0->manim==0.17.3) (3.0.0)\n",
            "Requirement already satisfied: mdurl~=0.1 in /usr/local/lib/python3.11/dist-packages (from markdown-it-py>=2.2.0->rich!=12.0.0,>=6.0->manim==0.17.3) (0.1.2)\n",
            "Requirement already satisfied: multipledispatch in /usr/local/lib/python3.11/dist-packages (from pyrr<1,>=0.10.3->moderngl-window<3.0.0,>=2.3.0->manim==0.17.3) (1.0.0)\n"
          ]
        }
      ]
    },
    {
      "cell_type": "code",
      "source": [
        "# Load the Manim extension to use %%manim magic\n",
        "%load_ext manim\n"
      ],
      "metadata": {
        "colab": {
          "base_uri": "https://localhost:8080/",
          "height": 66
        },
        "id": "W48aTG8z1w2U",
        "outputId": "79b7eac8-2269-4d71-f65b-81c05a81f388"
      },
      "execution_count": null,
      "outputs": [
        {
          "output_type": "display_data",
          "data": {
            "text/plain": [
              "Manim Community \u001b[32mv0.\u001b[0m\u001b[32m17.3\u001b[0m\n",
              "\n"
            ],
            "text/html": [
              "<pre style=\"white-space:pre;overflow-x:auto;line-height:normal;font-family:Menlo,'DejaVu Sans Mono',consolas,'Courier New',monospace\">Manim Community <span style=\"color: #008000; text-decoration-color: #008000\">v0.17.3</span>\n",
              "\n",
              "</pre>\n"
            ]
          },
          "metadata": {}
        },
        {
          "output_type": "stream",
          "name": "stdout",
          "text": [
            "The manim module is not an IPython extension.\n"
          ]
        }
      ]
    },
    {
      "cell_type": "code",
      "source": [
        "%%manim -ql UkraineGrid\n",
        "\n",
        "from manim import *\n",
        "\n",
        "# class SquareToCircle(Scene):\n",
        "#     def construct(self):\n",
        "#         square = Square()\n",
        "#         self.play(Create(square))\n",
        "#         self.play(Transform(square, Circle()))\n",
        "#         self.play(FadeOut(square))\n",
        "\n",
        "# class SquareToCircle(Scene):\n",
        "#     def construct(self):\n",
        "#         square = Square()\n",
        "#         self.play(Create(square))\n",
        "#         self.play(Transform(square, Circle()))\n",
        "#         self.play(FadeOut(square))\n",
        "\n",
        "class MilitarySymbol:\n",
        "    def __init__(self, sidc, name, affiliation, dimension, modifiers=None):\n",
        "        self.sidc = sidc\n",
        "        self.name = name\n",
        "        self.affiliation = affiliation\n",
        "        self.dimension = dimension\n",
        "        self.modifiers = modifiers or {}\n",
        "\n",
        "    def __str__(self):\n",
        "        return f\"{self.name} [{self.sidc}] - {self.affiliation} - {self.dimension}\"\n",
        "\n",
        "# Example: Friendly Ground Infantry\n",
        "class InfantryUnit(MilitarySymbol):\n",
        "    def __init__(self):\n",
        "        super().__init__(\n",
        "            sidc=\"SFG-UCI----*****\",  # example SIDC\n",
        "            name=\"Infantry Unit\",\n",
        "            affiliation=\"Friendly\",\n",
        "            dimension=\"Ground\",\n",
        "            modifiers={\"Echelon\": \"Company\"}\n",
        "        )\n",
        "\n",
        "\n",
        "class InfantrySymbol(Scene):\n",
        "    def construct(self):\n",
        "        # Main symbol rectangle (blue for friendly)\n",
        "        rect = Rectangle(width=2.5, height=1.5, color=BLUE).set_fill(BLUE_E, opacity=0.3)\n",
        "\n",
        "        # Infantry \"X\" shape on top\n",
        "        line1 = Line(start=UP + LEFT, end=UP + RIGHT).scale(0.4).shift(UP*1.2)\n",
        "        line2 = Line(start=UP + RIGHT, end=UP + LEFT).scale(0.4).shift(UP*1.2)\n",
        "\n",
        "        # Label inside the box\n",
        "        label = Text(\"Infantry\", font_size=24).move_to(rect.get_center())\n",
        "\n",
        "        # SIDC label below\n",
        "        sidc = Text(\"SFG-UCI----*****\", font_size=16).next_to(rect, DOWN)\n",
        "\n",
        "        self.play(Create(rect))\n",
        "        self.play(Write(label), FadeIn(sidc), Create(line1), Create(line2))\n",
        "        self.wait(2)\n",
        "\n",
        "class UkraineGrid(Scene):\n",
        "    def construct(self):\n",
        "        # Load the Ukraine shape from SVG\n",
        "        ukraine_shape = SVGMobject(\"ua-01.svg\")\n",
        "        ukraine_shape.set_fill(BLUE_E, opacity=0.3).set_stroke(BLUE_D, width=2)\n",
        "        ukraine_shape.scale(3)  # Adjust to fit scene\n",
        "\n",
        "        self.add(ukraine_shape)\n",
        "\n",
        "        # Create a grid of dots or squares\n",
        "        grid_elements = VGroup()\n",
        "        step = 0.3  # grid spacing\n",
        "        x_min, x_max = -7, 7\n",
        "        y_min, y_max = -4, 4\n",
        "\n",
        "        for x in np.arange(x_min, x_max, step):\n",
        "            for y in np.arange(y_min, y_max, step):\n",
        "                point = np.array([x, y, 0])\n",
        "                # Check if the point is inside the shape using `get_boundary_point`\n",
        "                # and comparing its distance from the center to the distance of the point.\n",
        "                boundary_point = ukraine_shape.get_boundary_point(point - ukraine_shape.get_center())\n",
        "\n",
        "                if np.linalg.norm(boundary_point - ukraine_shape.get_center()) > np.linalg.norm(point - ukraine_shape.get_center()):\n",
        "                    dot = Square(side_length=0.2).move_to(point).set_fill(WHITE, opacity=0.6).set_stroke(width=0)\n",
        "                    grid_elements.add(dot)\n",
        "\n",
        "        self.play(FadeIn(grid_elements), run_time=3)\n",
        "        self.wait(2)\n",
        "\n",
        "#persistence and layering animations in Manim\n",
        "class PersistentCircleScene(Scene):\n",
        "    def construct(self):\n",
        "        # Create and show the persistent circle\n",
        "        circle = Circle().set_color(BLUE).shift(LEFT*3)\n",
        "        self.play(Create(circle))\n",
        "        self.wait(0.5)\n",
        "\n",
        "        # Create a square that \"passes by\"\n",
        "        square = Square().set_color(RED).shift(RIGHT*5)\n",
        "\n",
        "        # Animate the square moving left past the circle\n",
        "        self.play(square.animate.shift(LEFT*10), run_time=4)\n",
        "\n",
        "        # Let it hang for a second\n",
        "        self.wait()\n"
      ],
      "metadata": {
        "colab": {
          "base_uri": "https://localhost:8080/",
          "height": 443
        },
        "id": "Kzlz22jJH5V7",
        "outputId": "bfc0abf9-2207-4f90-984a-063c46256987"
      },
      "execution_count": 3,
      "outputs": [
        {
          "output_type": "error",
          "ename": "OSError",
          "evalue": "From: /content, could not find ua-01.svg at either of these locations: ['ua-01.svg', 'ua-01.svg', 'ua-01.svg.svg']",
          "traceback": [
            "\u001b[0;31m---------------------------------------------------------------------------\u001b[0m",
            "\u001b[0;31mOSError\u001b[0m                                   Traceback (most recent call last)",
            "\u001b[0;32m<ipython-input-3-36e2ce7ad762>\u001b[0m in \u001b[0;36m<cell line: 0>\u001b[0;34m()\u001b[0m\n\u001b[0;32m----> 1\u001b[0;31m \u001b[0mget_ipython\u001b[0m\u001b[0;34m(\u001b[0m\u001b[0;34m)\u001b[0m\u001b[0;34m.\u001b[0m\u001b[0mrun_cell_magic\u001b[0m\u001b[0;34m(\u001b[0m\u001b[0;34m'manim'\u001b[0m\u001b[0;34m,\u001b[0m \u001b[0;34m'-ql UkraineGrid'\u001b[0m\u001b[0;34m,\u001b[0m \u001b[0;34m'\\nfrom manim import *\\n\\n# class SquareToCircle(Scene):\\n#     def construct(self):\\n#         square = Square()\\n#         self.play(Create(square))\\n#         self.play(Transform(square, Circle()))\\n#         self.play(FadeOut(square))\\n\\n# class SquareToCircle(Scene):\\n#     def construct(self):\\n#         square = Square()\\n#         self.play(Create(square))\\n#         self.play(Transform(square, Circle()))\\n#         self.play(FadeOut(square))\\n\\nclass MilitarySymbol:\\n    def __init__(self, sidc, name, affiliation, dimension, modifiers=None):\\n        self.sidc = sidc\\n        self.name = name\\n        self.affiliation = affiliation\\n        self.dimension = dimension\\n        self.modifiers = modifiers or {}\\n\\n    def __str__(self):\\n        return f\"{self.name} [{self.sidc}] - {self.affiliation} - {self.dimension}\"\\n\\n# Example: Friendly Ground Infantry\\nclass InfantryUnit(MilitarySymbol):\\n    def __init__(self):\\n        super().__init__(\\n            sidc=\"SFG-UCI----*****\",  # example SIDC\\n            name=\"Infantry Unit\",\\n            affiliation=\"Friendly\",\\n            dimension=\"Ground\",\\n            modifiers={\"Echelon\": \"Company\"}\\n        )\\n\\n\\nclass InfantrySymbol(Scene):\\n    def construct(self):\\n        # Main symbol rectangle (blue for friendly)\\n        rec...\n\u001b[0m",
            "\u001b[0;32m/usr/local/lib/python3.11/dist-packages/google/colab/_shell.py\u001b[0m in \u001b[0;36mrun_cell_magic\u001b[0;34m(self, magic_name, line, cell)\u001b[0m\n\u001b[1;32m    356\u001b[0m     \u001b[0;32mif\u001b[0m \u001b[0mline\u001b[0m \u001b[0;32mand\u001b[0m \u001b[0;32mnot\u001b[0m \u001b[0mcell\u001b[0m\u001b[0;34m:\u001b[0m\u001b[0;34m\u001b[0m\u001b[0;34m\u001b[0m\u001b[0m\n\u001b[1;32m    357\u001b[0m       \u001b[0mcell\u001b[0m \u001b[0;34m=\u001b[0m \u001b[0;34m' '\u001b[0m\u001b[0;34m\u001b[0m\u001b[0;34m\u001b[0m\u001b[0m\n\u001b[0;32m--> 358\u001b[0;31m     \u001b[0;32mreturn\u001b[0m \u001b[0msuper\u001b[0m\u001b[0;34m(\u001b[0m\u001b[0;34m)\u001b[0m\u001b[0;34m.\u001b[0m\u001b[0mrun_cell_magic\u001b[0m\u001b[0;34m(\u001b[0m\u001b[0mmagic_name\u001b[0m\u001b[0;34m,\u001b[0m \u001b[0mline\u001b[0m\u001b[0;34m,\u001b[0m \u001b[0mcell\u001b[0m\u001b[0;34m)\u001b[0m\u001b[0;34m\u001b[0m\u001b[0;34m\u001b[0m\u001b[0m\n\u001b[0m\u001b[1;32m    359\u001b[0m \u001b[0;34m\u001b[0m\u001b[0m\n\u001b[1;32m    360\u001b[0m \u001b[0;34m\u001b[0m\u001b[0m\n",
            "\u001b[0;32m/usr/local/lib/python3.11/dist-packages/IPython/core/interactiveshell.py\u001b[0m in \u001b[0;36mrun_cell_magic\u001b[0;34m(self, magic_name, line, cell)\u001b[0m\n\u001b[1;32m   2471\u001b[0m             \u001b[0;32mwith\u001b[0m \u001b[0mself\u001b[0m\u001b[0;34m.\u001b[0m\u001b[0mbuiltin_trap\u001b[0m\u001b[0;34m:\u001b[0m\u001b[0;34m\u001b[0m\u001b[0;34m\u001b[0m\u001b[0m\n\u001b[1;32m   2472\u001b[0m                 \u001b[0margs\u001b[0m \u001b[0;34m=\u001b[0m \u001b[0;34m(\u001b[0m\u001b[0mmagic_arg_s\u001b[0m\u001b[0;34m,\u001b[0m \u001b[0mcell\u001b[0m\u001b[0;34m)\u001b[0m\u001b[0;34m\u001b[0m\u001b[0;34m\u001b[0m\u001b[0m\n\u001b[0;32m-> 2473\u001b[0;31m                 \u001b[0mresult\u001b[0m \u001b[0;34m=\u001b[0m \u001b[0mfn\u001b[0m\u001b[0;34m(\u001b[0m\u001b[0;34m*\u001b[0m\u001b[0margs\u001b[0m\u001b[0;34m,\u001b[0m \u001b[0;34m**\u001b[0m\u001b[0mkwargs\u001b[0m\u001b[0;34m)\u001b[0m\u001b[0;34m\u001b[0m\u001b[0;34m\u001b[0m\u001b[0m\n\u001b[0m\u001b[1;32m   2474\u001b[0m             \u001b[0;32mreturn\u001b[0m \u001b[0mresult\u001b[0m\u001b[0;34m\u001b[0m\u001b[0;34m\u001b[0m\u001b[0m\n\u001b[1;32m   2475\u001b[0m \u001b[0;34m\u001b[0m\u001b[0m\n",
            "\u001b[0;32m/usr/local/lib/python3.11/dist-packages/decorator.py\u001b[0m in \u001b[0;36mfun\u001b[0;34m(*args, **kw)\u001b[0m\n\u001b[1;32m    233\u001b[0m             \u001b[0;32mif\u001b[0m \u001b[0;32mnot\u001b[0m \u001b[0mkwsyntax\u001b[0m\u001b[0;34m:\u001b[0m\u001b[0;34m\u001b[0m\u001b[0;34m\u001b[0m\u001b[0m\n\u001b[1;32m    234\u001b[0m                 \u001b[0margs\u001b[0m\u001b[0;34m,\u001b[0m \u001b[0mkw\u001b[0m \u001b[0;34m=\u001b[0m \u001b[0mfix\u001b[0m\u001b[0;34m(\u001b[0m\u001b[0margs\u001b[0m\u001b[0;34m,\u001b[0m \u001b[0mkw\u001b[0m\u001b[0;34m,\u001b[0m \u001b[0msig\u001b[0m\u001b[0;34m)\u001b[0m\u001b[0;34m\u001b[0m\u001b[0;34m\u001b[0m\u001b[0m\n\u001b[0;32m--> 235\u001b[0;31m             \u001b[0;32mreturn\u001b[0m \u001b[0mcaller\u001b[0m\u001b[0;34m(\u001b[0m\u001b[0mfunc\u001b[0m\u001b[0;34m,\u001b[0m \u001b[0;34m*\u001b[0m\u001b[0;34m(\u001b[0m\u001b[0mextras\u001b[0m \u001b[0;34m+\u001b[0m \u001b[0margs\u001b[0m\u001b[0;34m)\u001b[0m\u001b[0;34m,\u001b[0m \u001b[0;34m**\u001b[0m\u001b[0mkw\u001b[0m\u001b[0;34m)\u001b[0m\u001b[0;34m\u001b[0m\u001b[0;34m\u001b[0m\u001b[0m\n\u001b[0m\u001b[1;32m    236\u001b[0m \u001b[0;34m\u001b[0m\u001b[0m\n\u001b[1;32m    237\u001b[0m     \u001b[0mfun\u001b[0m\u001b[0;34m.\u001b[0m\u001b[0m__name__\u001b[0m \u001b[0;34m=\u001b[0m \u001b[0mfunc\u001b[0m\u001b[0;34m.\u001b[0m\u001b[0m__name__\u001b[0m\u001b[0;34m\u001b[0m\u001b[0;34m\u001b[0m\u001b[0m\n",
            "\u001b[0;32m/usr/local/lib/python3.11/dist-packages/IPython/core/magic.py\u001b[0m in \u001b[0;36m<lambda>\u001b[0;34m(f, *a, **k)\u001b[0m\n\u001b[1;32m    185\u001b[0m     \u001b[0;31m# but it's overkill for just that one bit of state.\u001b[0m\u001b[0;34m\u001b[0m\u001b[0;34m\u001b[0m\u001b[0m\n\u001b[1;32m    186\u001b[0m     \u001b[0;32mdef\u001b[0m \u001b[0mmagic_deco\u001b[0m\u001b[0;34m(\u001b[0m\u001b[0marg\u001b[0m\u001b[0;34m)\u001b[0m\u001b[0;34m:\u001b[0m\u001b[0;34m\u001b[0m\u001b[0;34m\u001b[0m\u001b[0m\n\u001b[0;32m--> 187\u001b[0;31m         \u001b[0mcall\u001b[0m \u001b[0;34m=\u001b[0m \u001b[0;32mlambda\u001b[0m \u001b[0mf\u001b[0m\u001b[0;34m,\u001b[0m \u001b[0;34m*\u001b[0m\u001b[0ma\u001b[0m\u001b[0;34m,\u001b[0m \u001b[0;34m**\u001b[0m\u001b[0mk\u001b[0m\u001b[0;34m:\u001b[0m \u001b[0mf\u001b[0m\u001b[0;34m(\u001b[0m\u001b[0;34m*\u001b[0m\u001b[0ma\u001b[0m\u001b[0;34m,\u001b[0m \u001b[0;34m**\u001b[0m\u001b[0mk\u001b[0m\u001b[0;34m)\u001b[0m\u001b[0;34m\u001b[0m\u001b[0;34m\u001b[0m\u001b[0m\n\u001b[0m\u001b[1;32m    188\u001b[0m \u001b[0;34m\u001b[0m\u001b[0m\n\u001b[1;32m    189\u001b[0m         \u001b[0;32mif\u001b[0m \u001b[0mcallable\u001b[0m\u001b[0;34m(\u001b[0m\u001b[0marg\u001b[0m\u001b[0;34m)\u001b[0m\u001b[0;34m:\u001b[0m\u001b[0;34m\u001b[0m\u001b[0;34m\u001b[0m\u001b[0m\n",
            "\u001b[0;32m/usr/local/lib/python3.11/dist-packages/manim/utils/ipython_magic.py\u001b[0m in \u001b[0;36mmanim\u001b[0;34m(self, line, cell, local_ns)\u001b[0m\n\u001b[1;32m    139\u001b[0m                     \u001b[0mSceneClass\u001b[0m \u001b[0;34m=\u001b[0m \u001b[0mlocal_ns\u001b[0m\u001b[0;34m[\u001b[0m\u001b[0mconfig\u001b[0m\u001b[0;34m[\u001b[0m\u001b[0;34m\"scene_names\"\u001b[0m\u001b[0;34m]\u001b[0m\u001b[0;34m[\u001b[0m\u001b[0;36m0\u001b[0m\u001b[0;34m]\u001b[0m\u001b[0;34m]\u001b[0m\u001b[0;34m\u001b[0m\u001b[0;34m\u001b[0m\u001b[0m\n\u001b[1;32m    140\u001b[0m                     \u001b[0mscene\u001b[0m \u001b[0;34m=\u001b[0m \u001b[0mSceneClass\u001b[0m\u001b[0;34m(\u001b[0m\u001b[0mrenderer\u001b[0m\u001b[0;34m=\u001b[0m\u001b[0mrenderer\u001b[0m\u001b[0;34m)\u001b[0m\u001b[0;34m\u001b[0m\u001b[0;34m\u001b[0m\u001b[0m\n\u001b[0;32m--> 141\u001b[0;31m                     \u001b[0mscene\u001b[0m\u001b[0;34m.\u001b[0m\u001b[0mrender\u001b[0m\u001b[0;34m(\u001b[0m\u001b[0;34m)\u001b[0m\u001b[0;34m\u001b[0m\u001b[0;34m\u001b[0m\u001b[0m\n\u001b[0m\u001b[1;32m    142\u001b[0m                 \u001b[0;32mfinally\u001b[0m\u001b[0;34m:\u001b[0m\u001b[0;34m\u001b[0m\u001b[0;34m\u001b[0m\u001b[0m\n\u001b[1;32m    143\u001b[0m                     \u001b[0;31m# Shader cache becomes invalid as the context is destroyed\u001b[0m\u001b[0;34m\u001b[0m\u001b[0;34m\u001b[0m\u001b[0m\n",
            "\u001b[0;32m/usr/local/lib/python3.11/dist-packages/manim/scene/scene.py\u001b[0m in \u001b[0;36mrender\u001b[0;34m(self, preview)\u001b[0m\n\u001b[1;32m    221\u001b[0m         \u001b[0mself\u001b[0m\u001b[0;34m.\u001b[0m\u001b[0msetup\u001b[0m\u001b[0;34m(\u001b[0m\u001b[0;34m)\u001b[0m\u001b[0;34m\u001b[0m\u001b[0;34m\u001b[0m\u001b[0m\n\u001b[1;32m    222\u001b[0m         \u001b[0;32mtry\u001b[0m\u001b[0;34m:\u001b[0m\u001b[0;34m\u001b[0m\u001b[0;34m\u001b[0m\u001b[0m\n\u001b[0;32m--> 223\u001b[0;31m             \u001b[0mself\u001b[0m\u001b[0;34m.\u001b[0m\u001b[0mconstruct\u001b[0m\u001b[0;34m(\u001b[0m\u001b[0;34m)\u001b[0m\u001b[0;34m\u001b[0m\u001b[0;34m\u001b[0m\u001b[0m\n\u001b[0m\u001b[1;32m    224\u001b[0m         \u001b[0;32mexcept\u001b[0m \u001b[0mEndSceneEarlyException\u001b[0m\u001b[0;34m:\u001b[0m\u001b[0;34m\u001b[0m\u001b[0;34m\u001b[0m\u001b[0m\n\u001b[1;32m    225\u001b[0m             \u001b[0;32mpass\u001b[0m\u001b[0;34m\u001b[0m\u001b[0;34m\u001b[0m\u001b[0m\n",
            "\u001b[0;32m<string>\u001b[0m in \u001b[0;36mconstruct\u001b[0;34m(self)\u001b[0m\n",
            "\u001b[0;32m/usr/local/lib/python3.11/dist-packages/manim/mobject/svg/svg_mobject.py\u001b[0m in \u001b[0;36m__init__\u001b[0;34m(self, file_name, should_center, height, width, color, opacity, fill_color, fill_opacity, stroke_color, stroke_opacity, stroke_width, svg_default, path_string_config, use_svg_cache, **kwargs)\u001b[0m\n\u001b[1;32m    143\u001b[0m         \u001b[0mself\u001b[0m\u001b[0;34m.\u001b[0m\u001b[0mpath_string_config\u001b[0m \u001b[0;34m=\u001b[0m \u001b[0mpath_string_config\u001b[0m\u001b[0;34m\u001b[0m\u001b[0;34m\u001b[0m\u001b[0m\n\u001b[1;32m    144\u001b[0m \u001b[0;34m\u001b[0m\u001b[0m\n\u001b[0;32m--> 145\u001b[0;31m         \u001b[0mself\u001b[0m\u001b[0;34m.\u001b[0m\u001b[0minit_svg_mobject\u001b[0m\u001b[0;34m(\u001b[0m\u001b[0muse_svg_cache\u001b[0m\u001b[0;34m=\u001b[0m\u001b[0muse_svg_cache\u001b[0m\u001b[0;34m)\u001b[0m\u001b[0;34m\u001b[0m\u001b[0;34m\u001b[0m\u001b[0m\n\u001b[0m\u001b[1;32m    146\u001b[0m \u001b[0;34m\u001b[0m\u001b[0m\n\u001b[1;32m    147\u001b[0m         self.set_style(\n",
            "\u001b[0;32m/usr/local/lib/python3.11/dist-packages/manim/mobject/svg/svg_mobject.py\u001b[0m in \u001b[0;36minit_svg_mobject\u001b[0;34m(self, use_svg_cache)\u001b[0m\n\u001b[1;32m    169\u001b[0m                 \u001b[0;32mreturn\u001b[0m\u001b[0;34m\u001b[0m\u001b[0;34m\u001b[0m\u001b[0m\n\u001b[1;32m    170\u001b[0m \u001b[0;34m\u001b[0m\u001b[0m\n\u001b[0;32m--> 171\u001b[0;31m         \u001b[0mself\u001b[0m\u001b[0;34m.\u001b[0m\u001b[0mgenerate_mobject\u001b[0m\u001b[0;34m(\u001b[0m\u001b[0;34m)\u001b[0m\u001b[0;34m\u001b[0m\u001b[0;34m\u001b[0m\u001b[0m\n\u001b[0m\u001b[1;32m    172\u001b[0m         \u001b[0;32mif\u001b[0m \u001b[0muse_svg_cache\u001b[0m\u001b[0;34m:\u001b[0m\u001b[0;34m\u001b[0m\u001b[0;34m\u001b[0m\u001b[0m\n\u001b[1;32m    173\u001b[0m             \u001b[0mSVG_HASH_TO_MOB_MAP\u001b[0m\u001b[0;34m[\u001b[0m\u001b[0mhash_val\u001b[0m\u001b[0;34m]\u001b[0m \u001b[0;34m=\u001b[0m \u001b[0mself\u001b[0m\u001b[0;34m.\u001b[0m\u001b[0mcopy\u001b[0m\u001b[0;34m(\u001b[0m\u001b[0;34m)\u001b[0m\u001b[0;34m\u001b[0m\u001b[0;34m\u001b[0m\u001b[0m\n",
            "\u001b[0;32m/usr/local/lib/python3.11/dist-packages/manim/mobject/svg/svg_mobject.py\u001b[0m in \u001b[0;36mgenerate_mobject\u001b[0;34m(self)\u001b[0m\n\u001b[1;32m    190\u001b[0m     \u001b[0;32mdef\u001b[0m \u001b[0mgenerate_mobject\u001b[0m\u001b[0;34m(\u001b[0m\u001b[0mself\u001b[0m\u001b[0;34m)\u001b[0m \u001b[0;34m->\u001b[0m \u001b[0;32mNone\u001b[0m\u001b[0;34m:\u001b[0m\u001b[0;34m\u001b[0m\u001b[0;34m\u001b[0m\u001b[0m\n\u001b[1;32m    191\u001b[0m         \u001b[0;34m\"\"\"Parse the SVG and translate its elements to submobjects.\"\"\"\u001b[0m\u001b[0;34m\u001b[0m\u001b[0;34m\u001b[0m\u001b[0m\n\u001b[0;32m--> 192\u001b[0;31m         \u001b[0mfile_path\u001b[0m \u001b[0;34m=\u001b[0m \u001b[0mself\u001b[0m\u001b[0;34m.\u001b[0m\u001b[0mget_file_path\u001b[0m\u001b[0;34m(\u001b[0m\u001b[0;34m)\u001b[0m\u001b[0;34m\u001b[0m\u001b[0;34m\u001b[0m\u001b[0m\n\u001b[0m\u001b[1;32m    193\u001b[0m         \u001b[0melement_tree\u001b[0m \u001b[0;34m=\u001b[0m \u001b[0mET\u001b[0m\u001b[0;34m.\u001b[0m\u001b[0mparse\u001b[0m\u001b[0;34m(\u001b[0m\u001b[0mfile_path\u001b[0m\u001b[0;34m)\u001b[0m\u001b[0;34m\u001b[0m\u001b[0;34m\u001b[0m\u001b[0m\n\u001b[1;32m    194\u001b[0m         \u001b[0mnew_tree\u001b[0m \u001b[0;34m=\u001b[0m \u001b[0mself\u001b[0m\u001b[0;34m.\u001b[0m\u001b[0mmodify_xml_tree\u001b[0m\u001b[0;34m(\u001b[0m\u001b[0melement_tree\u001b[0m\u001b[0;34m)\u001b[0m\u001b[0;34m\u001b[0m\u001b[0;34m\u001b[0m\u001b[0m\n",
            "\u001b[0;32m/usr/local/lib/python3.11/dist-packages/manim/mobject/svg/svg_mobject.py\u001b[0m in \u001b[0;36mget_file_path\u001b[0;34m(self)\u001b[0m\n\u001b[1;32m    208\u001b[0m         \u001b[0;32mif\u001b[0m \u001b[0mself\u001b[0m\u001b[0;34m.\u001b[0m\u001b[0mfile_name\u001b[0m \u001b[0;32mis\u001b[0m \u001b[0;32mNone\u001b[0m\u001b[0;34m:\u001b[0m\u001b[0;34m\u001b[0m\u001b[0;34m\u001b[0m\u001b[0m\n\u001b[1;32m    209\u001b[0m             \u001b[0;32mraise\u001b[0m \u001b[0mValueError\u001b[0m\u001b[0;34m(\u001b[0m\u001b[0;34m\"Must specify file for SVGMobject\"\u001b[0m\u001b[0;34m)\u001b[0m\u001b[0;34m\u001b[0m\u001b[0;34m\u001b[0m\u001b[0m\n\u001b[0;32m--> 210\u001b[0;31m         \u001b[0;32mreturn\u001b[0m \u001b[0mget_full_vector_image_path\u001b[0m\u001b[0;34m(\u001b[0m\u001b[0mself\u001b[0m\u001b[0;34m.\u001b[0m\u001b[0mfile_name\u001b[0m\u001b[0;34m)\u001b[0m\u001b[0;34m\u001b[0m\u001b[0;34m\u001b[0m\u001b[0m\n\u001b[0m\u001b[1;32m    211\u001b[0m \u001b[0;34m\u001b[0m\u001b[0m\n\u001b[1;32m    212\u001b[0m     \u001b[0;32mdef\u001b[0m \u001b[0mmodify_xml_tree\u001b[0m\u001b[0;34m(\u001b[0m\u001b[0mself\u001b[0m\u001b[0;34m,\u001b[0m \u001b[0melement_tree\u001b[0m\u001b[0;34m:\u001b[0m \u001b[0mET\u001b[0m\u001b[0;34m.\u001b[0m\u001b[0mElementTree\u001b[0m\u001b[0;34m)\u001b[0m \u001b[0;34m->\u001b[0m \u001b[0mET\u001b[0m\u001b[0;34m.\u001b[0m\u001b[0mElementTree\u001b[0m\u001b[0;34m:\u001b[0m\u001b[0;34m\u001b[0m\u001b[0;34m\u001b[0m\u001b[0m\n",
            "\u001b[0;32m/usr/local/lib/python3.11/dist-packages/manim/utils/images.py\u001b[0m in \u001b[0;36mget_full_vector_image_path\u001b[0;34m(image_file_name)\u001b[0m\n\u001b[1;32m     28\u001b[0m \u001b[0;34m\u001b[0m\u001b[0m\n\u001b[1;32m     29\u001b[0m \u001b[0;32mdef\u001b[0m \u001b[0mget_full_vector_image_path\u001b[0m\u001b[0;34m(\u001b[0m\u001b[0mimage_file_name\u001b[0m\u001b[0;34m:\u001b[0m \u001b[0mstr\u001b[0m\u001b[0;34m)\u001b[0m \u001b[0;34m->\u001b[0m \u001b[0mPath\u001b[0m\u001b[0;34m:\u001b[0m\u001b[0;34m\u001b[0m\u001b[0;34m\u001b[0m\u001b[0m\n\u001b[0;32m---> 30\u001b[0;31m     return seek_full_path_from_defaults(\n\u001b[0m\u001b[1;32m     31\u001b[0m         \u001b[0mimage_file_name\u001b[0m\u001b[0;34m,\u001b[0m\u001b[0;34m\u001b[0m\u001b[0;34m\u001b[0m\u001b[0m\n\u001b[1;32m     32\u001b[0m         \u001b[0mdefault_dir\u001b[0m\u001b[0;34m=\u001b[0m\u001b[0mconfig\u001b[0m\u001b[0;34m.\u001b[0m\u001b[0mget_dir\u001b[0m\u001b[0;34m(\u001b[0m\u001b[0;34m\"assets_dir\"\u001b[0m\u001b[0;34m)\u001b[0m\u001b[0;34m,\u001b[0m\u001b[0;34m\u001b[0m\u001b[0;34m\u001b[0m\u001b[0m\n",
            "\u001b[0;32m/usr/local/lib/python3.11/dist-packages/manim/utils/file_ops.py\u001b[0m in \u001b[0;36mseek_full_path_from_defaults\u001b[0;34m(file_name, default_dir, extensions)\u001b[0m\n\u001b[1;32m    173\u001b[0m         \u001b[0;34mf\"of these locations: {list(map(str, possible_paths))}\"\u001b[0m\u001b[0;34m\u001b[0m\u001b[0;34m\u001b[0m\u001b[0m\n\u001b[1;32m    174\u001b[0m     )\n\u001b[0;32m--> 175\u001b[0;31m     \u001b[0;32mraise\u001b[0m \u001b[0mOSError\u001b[0m\u001b[0;34m(\u001b[0m\u001b[0merror\u001b[0m\u001b[0;34m)\u001b[0m\u001b[0;34m\u001b[0m\u001b[0;34m\u001b[0m\u001b[0m\n\u001b[0m\u001b[1;32m    176\u001b[0m \u001b[0;34m\u001b[0m\u001b[0m\n\u001b[1;32m    177\u001b[0m \u001b[0;34m\u001b[0m\u001b[0m\n",
            "\u001b[0;31mOSError\u001b[0m: From: /content, could not find ua-01.svg at either of these locations: ['ua-01.svg', 'ua-01.svg', 'ua-01.svg.svg']"
          ]
        }
      ]
    }
  ]
}