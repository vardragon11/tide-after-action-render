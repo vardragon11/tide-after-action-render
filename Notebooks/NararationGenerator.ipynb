{
  "nbformat": 4,
  "nbformat_minor": 0,
  "metadata": {
    "colab": {
      "provenance": []
    },
    "kernelspec": {
      "name": "python3",
      "display_name": "Python 3"
    },
    "language_info": {
      "name": "python"
    }
  },
  "cells": [
    {
      "cell_type": "code",
      "execution_count": 4,
      "metadata": {
        "colab": {
          "base_uri": "https://localhost:8080/"
        },
        "id": "Zn_5UFzzCdwV",
        "outputId": "2b5854cf-ea00-4b5f-a979-11ec28f58a16"
      },
      "outputs": [
        {
          "output_type": "stream",
          "name": "stdout",
          "text": [
            "Requirement already satisfied: gtts in /usr/local/lib/python3.11/dist-packages (2.5.4)\n",
            "Requirement already satisfied: requests<3,>=2.27 in /usr/local/lib/python3.11/dist-packages (from gtts) (2.32.3)\n",
            "Requirement already satisfied: click<8.2,>=7.1 in /usr/local/lib/python3.11/dist-packages (from gtts) (8.1.8)\n",
            "Requirement already satisfied: charset-normalizer<4,>=2 in /usr/local/lib/python3.11/dist-packages (from requests<3,>=2.27->gtts) (3.4.1)\n",
            "Requirement already satisfied: idna<4,>=2.5 in /usr/local/lib/python3.11/dist-packages (from requests<3,>=2.27->gtts) (3.10)\n",
            "Requirement already satisfied: urllib3<3,>=1.21.1 in /usr/local/lib/python3.11/dist-packages (from requests<3,>=2.27->gtts) (2.3.0)\n",
            "Requirement already satisfied: certifi>=2017.4.17 in /usr/local/lib/python3.11/dist-packages (from requests<3,>=2.27->gtts) (2025.1.31)\n",
            "Collecting streamlit\n",
            "  Downloading streamlit-1.44.1-py3-none-any.whl.metadata (8.9 kB)\n",
            "Requirement already satisfied: altair<6,>=4.0 in /usr/local/lib/python3.11/dist-packages (from streamlit) (5.5.0)\n",
            "Requirement already satisfied: blinker<2,>=1.0.0 in /usr/local/lib/python3.11/dist-packages (from streamlit) (1.9.0)\n",
            "Requirement already satisfied: cachetools<6,>=4.0 in /usr/local/lib/python3.11/dist-packages (from streamlit) (5.5.2)\n",
            "Requirement already satisfied: click<9,>=7.0 in /usr/local/lib/python3.11/dist-packages (from streamlit) (8.1.8)\n",
            "Requirement already satisfied: numpy<3,>=1.23 in /usr/local/lib/python3.11/dist-packages (from streamlit) (2.0.2)\n",
            "Requirement already satisfied: packaging<25,>=20 in /usr/local/lib/python3.11/dist-packages (from streamlit) (24.2)\n",
            "Requirement already satisfied: pandas<3,>=1.4.0 in /usr/local/lib/python3.11/dist-packages (from streamlit) (2.2.2)\n",
            "Requirement already satisfied: pillow<12,>=7.1.0 in /usr/local/lib/python3.11/dist-packages (from streamlit) (11.1.0)\n",
            "Requirement already satisfied: protobuf<6,>=3.20 in /usr/local/lib/python3.11/dist-packages (from streamlit) (5.29.4)\n",
            "Requirement already satisfied: pyarrow>=7.0 in /usr/local/lib/python3.11/dist-packages (from streamlit) (18.1.0)\n",
            "Requirement already satisfied: requests<3,>=2.27 in /usr/local/lib/python3.11/dist-packages (from streamlit) (2.32.3)\n",
            "Requirement already satisfied: tenacity<10,>=8.1.0 in /usr/local/lib/python3.11/dist-packages (from streamlit) (9.1.2)\n",
            "Requirement already satisfied: toml<2,>=0.10.1 in /usr/local/lib/python3.11/dist-packages (from streamlit) (0.10.2)\n",
            "Requirement already satisfied: typing-extensions<5,>=4.4.0 in /usr/local/lib/python3.11/dist-packages (from streamlit) (4.13.1)\n",
            "Collecting watchdog<7,>=2.1.5 (from streamlit)\n",
            "  Downloading watchdog-6.0.0-py3-none-manylinux2014_x86_64.whl.metadata (44 kB)\n",
            "\u001b[2K     \u001b[90m━━━━━━━━━━━━━━━━━━━━━━━━━━━━━━━━━━━━━━━━\u001b[0m \u001b[32m44.3/44.3 kB\u001b[0m \u001b[31m2.2 MB/s\u001b[0m eta \u001b[36m0:00:00\u001b[0m\n",
            "\u001b[?25hRequirement already satisfied: gitpython!=3.1.19,<4,>=3.0.7 in /usr/local/lib/python3.11/dist-packages (from streamlit) (3.1.44)\n",
            "Collecting pydeck<1,>=0.8.0b4 (from streamlit)\n",
            "  Downloading pydeck-0.9.1-py2.py3-none-any.whl.metadata (4.1 kB)\n",
            "Requirement already satisfied: tornado<7,>=6.0.3 in /usr/local/lib/python3.11/dist-packages (from streamlit) (6.4.2)\n",
            "Requirement already satisfied: jinja2 in /usr/local/lib/python3.11/dist-packages (from altair<6,>=4.0->streamlit) (3.1.6)\n",
            "Requirement already satisfied: jsonschema>=3.0 in /usr/local/lib/python3.11/dist-packages (from altair<6,>=4.0->streamlit) (4.23.0)\n",
            "Requirement already satisfied: narwhals>=1.14.2 in /usr/local/lib/python3.11/dist-packages (from altair<6,>=4.0->streamlit) (1.33.0)\n",
            "Requirement already satisfied: gitdb<5,>=4.0.1 in /usr/local/lib/python3.11/dist-packages (from gitpython!=3.1.19,<4,>=3.0.7->streamlit) (4.0.12)\n",
            "Requirement already satisfied: python-dateutil>=2.8.2 in /usr/local/lib/python3.11/dist-packages (from pandas<3,>=1.4.0->streamlit) (2.8.2)\n",
            "Requirement already satisfied: pytz>=2020.1 in /usr/local/lib/python3.11/dist-packages (from pandas<3,>=1.4.0->streamlit) (2025.2)\n",
            "Requirement already satisfied: tzdata>=2022.7 in /usr/local/lib/python3.11/dist-packages (from pandas<3,>=1.4.0->streamlit) (2025.2)\n",
            "Requirement already satisfied: charset-normalizer<4,>=2 in /usr/local/lib/python3.11/dist-packages (from requests<3,>=2.27->streamlit) (3.4.1)\n",
            "Requirement already satisfied: idna<4,>=2.5 in /usr/local/lib/python3.11/dist-packages (from requests<3,>=2.27->streamlit) (3.10)\n",
            "Requirement already satisfied: urllib3<3,>=1.21.1 in /usr/local/lib/python3.11/dist-packages (from requests<3,>=2.27->streamlit) (2.3.0)\n",
            "Requirement already satisfied: certifi>=2017.4.17 in /usr/local/lib/python3.11/dist-packages (from requests<3,>=2.27->streamlit) (2025.1.31)\n",
            "Requirement already satisfied: smmap<6,>=3.0.1 in /usr/local/lib/python3.11/dist-packages (from gitdb<5,>=4.0.1->gitpython!=3.1.19,<4,>=3.0.7->streamlit) (5.0.2)\n",
            "Requirement already satisfied: MarkupSafe>=2.0 in /usr/local/lib/python3.11/dist-packages (from jinja2->altair<6,>=4.0->streamlit) (3.0.2)\n",
            "Requirement already satisfied: attrs>=22.2.0 in /usr/local/lib/python3.11/dist-packages (from jsonschema>=3.0->altair<6,>=4.0->streamlit) (25.3.0)\n",
            "Requirement already satisfied: jsonschema-specifications>=2023.03.6 in /usr/local/lib/python3.11/dist-packages (from jsonschema>=3.0->altair<6,>=4.0->streamlit) (2024.10.1)\n",
            "Requirement already satisfied: referencing>=0.28.4 in /usr/local/lib/python3.11/dist-packages (from jsonschema>=3.0->altair<6,>=4.0->streamlit) (0.36.2)\n",
            "Requirement already satisfied: rpds-py>=0.7.1 in /usr/local/lib/python3.11/dist-packages (from jsonschema>=3.0->altair<6,>=4.0->streamlit) (0.24.0)\n",
            "Requirement already satisfied: six>=1.5 in /usr/local/lib/python3.11/dist-packages (from python-dateutil>=2.8.2->pandas<3,>=1.4.0->streamlit) (1.17.0)\n",
            "Downloading streamlit-1.44.1-py3-none-any.whl (9.8 MB)\n",
            "\u001b[2K   \u001b[90m━━━━━━━━━━━━━━━━━━━━━━━━━━━━━━━━━━━━━━━━\u001b[0m \u001b[32m9.8/9.8 MB\u001b[0m \u001b[31m88.5 MB/s\u001b[0m eta \u001b[36m0:00:00\u001b[0m\n",
            "\u001b[?25hDownloading pydeck-0.9.1-py2.py3-none-any.whl (6.9 MB)\n",
            "\u001b[2K   \u001b[90m━━━━━━━━━━━━━━━━━━━━━━━━━━━━━━━━━━━━━━━━\u001b[0m \u001b[32m6.9/6.9 MB\u001b[0m \u001b[31m92.5 MB/s\u001b[0m eta \u001b[36m0:00:00\u001b[0m\n",
            "\u001b[?25hDownloading watchdog-6.0.0-py3-none-manylinux2014_x86_64.whl (79 kB)\n",
            "\u001b[2K   \u001b[90m━━━━━━━━━━━━━━━━━━━━━━━━━━━━━━━━━━━━━━━━\u001b[0m \u001b[32m79.1/79.1 kB\u001b[0m \u001b[31m6.6 MB/s\u001b[0m eta \u001b[36m0:00:00\u001b[0m\n",
            "\u001b[?25hInstalling collected packages: watchdog, pydeck, streamlit\n",
            "Successfully installed pydeck-0.9.1 streamlit-1.44.1 watchdog-6.0.0\n",
            "Requirement already satisfied: pydub in /usr/local/lib/python3.11/dist-packages (0.25.1)\n",
            "Hit:1 http://security.ubuntu.com/ubuntu jammy-security InRelease\n",
            "Hit:2 https://cloud.r-project.org/bin/linux/ubuntu jammy-cran40/ InRelease\n",
            "Hit:3 https://developer.download.nvidia.com/compute/cuda/repos/ubuntu2204/x86_64  InRelease\n",
            "Hit:4 https://r2u.stat.illinois.edu/ubuntu jammy InRelease\n",
            "Hit:5 http://archive.ubuntu.com/ubuntu jammy InRelease\n",
            "Hit:6 http://archive.ubuntu.com/ubuntu jammy-updates InRelease\n",
            "Hit:7 http://archive.ubuntu.com/ubuntu jammy-backports InRelease\n",
            "Hit:8 https://ppa.launchpadcontent.net/deadsnakes/ppa/ubuntu jammy InRelease\n",
            "Hit:9 https://ppa.launchpadcontent.net/graphics-drivers/ppa/ubuntu jammy InRelease\n",
            "Hit:10 https://ppa.launchpadcontent.net/ubuntugis/ppa/ubuntu jammy InRelease\n",
            "Reading package lists... Done\n",
            "Building dependency tree... Done\n",
            "Reading state information... Done\n",
            "39 packages can be upgraded. Run 'apt list --upgradable' to see them.\n",
            "\u001b[1;33mW: \u001b[0mSkipping acquire of configured file 'main/source/Sources' as repository 'https://r2u.stat.illinois.edu/ubuntu jammy InRelease' does not seem to provide it (sources.list entry misspelt?)\u001b[0m\n",
            "Reading package lists... Done\n",
            "Building dependency tree... Done\n",
            "Reading state information... Done\n",
            "ffmpeg is already the newest version (7:4.4.2-0ubuntu0.22.04.1).\n",
            "0 upgraded, 0 newly installed, 0 to remove and 39 not upgraded.\n"
          ]
        }
      ],
      "source": [
        "!pip install gtts\n",
        "!pip install streamlit\n",
        "!pip install pydub\n",
        "#!pip install git+https://github.com/openai/whisper.git\n",
        "!sudo apt update && sudo apt install ffmpeg\n",
        "#!pip install whisper"
      ]
    },
    {
      "cell_type": "code",
      "source": [
        "# Sample input\n",
        "scenario_text = \"\"\"Title is Operation Coastal Shield. Description is Allied Forces are retreating under fire.\n",
        "Unit is ID equals U1. Name equals British Infantry. Type equals Infantry. Strength equals 85. Allegiance equals Friendly. X equals 3. Y equals 6. Status equals Active.\n",
        "Unit is ID equals U2. Name equals French Infantry. Type equals Infantry. Strength equals 80. Allegiance equals Friendly. X equals 5. Y equals 6. Status equals Active.\n",
        "Unit is ID equals U3. Name equals German Armor. Type equals Armor. Strength equals 92. Allegiance equals Enemy. X equals 3. Y equals 4. Status equals Active.\n",
        "Unit is ID equals U4. Name equals German Armor. Type equals Armor. Strength equals 87. Allegiance equals Enemy. X equals 6. Y equals 4. Status equals Active.\n",
        "Feature is Type equals Beach. X equals 5. Y equals 9.3. Size equals 50.\n",
        "Objective is ID equals O1. Desk equals evacuate to Boats. X equals 5. Y equals 10. Priority equals 1.\n",
        "Event is Time equals 0.00. Desk equals British Infantry fallback. Units equals U1. Type equals Move. X equals 5. Y equals 10.\n",
        "Event is Time equals 0.01. Desk equals German Armor fires. Units equals U3. Type equals Fire. X equals 3. Y equals 10.\n",
        "Event is Time equals 0.01. Desk equals French Infantry Fires. Units equals U2. Type equals Fire. X equals 5. Y equals 6.\"\"\"\n",
        "\n",
        "space_scenario_text = \"\"\"Title is LUNAR ASCENT. Description is A covert laser strike has crippled UED’s high-bandwidth relay satellite over the Moon. Tensions escalate to open orbital warfare. The Moon becomes the fulcrum.\n",
        "Unit is ID equals U1. Name equals UED Defense Satellite 1. Type equals Satellite. Strength equals 70. Allegiance equals Friendly. X equals 4. Y equals 2. Status equals Active.\n",
        "Unit is ID equals U2. Name equals UED Defense Satellite 2. Type equals Satellite. Strength equals 70. Allegiance equals Home. X equals 3. Y equals 2.5. Status equals Active.\n",
        "Unit is ID equals U3. Name equals UED Supply Shuttle. Type equals Shuttle. Strength equals 100. Allegiance equals Home. X equals 2. Y equals -1. Status equals Active.\n",
        "Unit is ID equals U4. Name equals UED Artemis Laser. Type equals Ground-Laser. Strength equals 90. Allegiance equals Friendly. X equals 2. Y equals -2. Status equals Active.\n",
        "Unit is ID equals U5. Name equals CC Stealth Satellite 1. Type equals StealthSatellite. Strength equals 60. Allegiance equals Enemy. X equals 3. Y equals 2.5. Status equals Active.\n",
        "Unit is ID equals U6. Name equals CC Stealth Satellite 2. Type equals StealthSatellite. Strength equals 60. Allegiance equals Enemy. X equals 4. Y equals 2. Status equals Active.\n",
        "Unit is ID equals U7. Name equals CC Lunar Jammer. Type equals Jammer. Strength equals 50. Allegiance equals Enemy. X equals 1. Y equals -5. Status equals Active.\n",
        "Objective is ID equals O1. Desk equals Retake orbital sectors. X equals 0. Y equals 2. Priority equals 1.\n",
        "Objective is ID equals O2. Desk equals Protect Artemis Base. X equals 0. Y equals 5. Priority equals 2.\n",
        "Event is Time equals 1.00. Desk equals Deploy UED Defense Satellites. Units equals U1. Type equals Move. X equals 4. Y equals 2.\n",
        "Event is Time equals 1.00. Desk equals Deploy UED Defense Satellites. Units equals U1. Type equals Move. X equals 7. Y equals 2.5.\n",
        "Event is Time equals 2.00. Desk equals CC launches jammer activation. Units equals U7. Type equals Hold. X equals 4. Y equals 5.\n",
        "Event is Time equals 3.00. Desk equals Direct fire between satellites begins. Units equals U1|U5. Type equals Fire. X equals 3. Y equals 2.5.\n",
        "Event is Time equals 4.00. Desk equals UED Artemis Laser engages drones. Units equals U4|U8. Type equals Fire. X equals 2. Y equals 1.\n",
        "Event is Time equals 5.00. Desk equals CC Stealth Satellite attempts repositioning. Units equals U6. Type equals Move. X equals 2. Y equals 3.\n",
        "Event is Time equals 6.00. Desk equals UED Supply Shuttle prepares for descent. Units equals U3. Type equals Hold. X equals 0. Y equals 0.\n",
        "Event is Time equals 7.00. Desk equals UED reclaims orbital sector. Units equals U2. Type equals Move. X equals 0. Y equals 2.\"\"\"\n",
        "\n",
        "\n",
        "narated_text = \"\"\"In the shadow of the Moon, silence is shattered.\"\n",
        "\n",
        "A precision laser strike has crippled the UED's high-bandwidth relay satellite, plunging orbital communications into chaos. The attack was unclaimed... but unmistakable.\n",
        "\n",
        "Now, the conflict escalates.\n",
        "\n",
        "Above the lunar surface, UED Defense Satellites scramble to reclaim strategic positions. Below, on the dark side of the Moon, Artemis Base powers up its ground-based laser array.\n",
        "\n",
        "The Coalition of Colonies, long suspected of covert operations, activates stealth satellites and a powerful lunar jammer, blanketing the region in digital fog.\n",
        "\n",
        "Objectives are clear:\n",
        "\n",
        "Retake the orbital sectors.\n",
        "\n",
        "Protect Artemis at all costs.\n",
        "\n",
        "The battle for the Moon begins — and with it, the balance of power in space.\n",
        "\n",
        "\"This... is Lunar Ascent.\"\n",
        "\n",
        "\"\"\""
      ],
      "metadata": {
        "id": "V92xO8K9Cq5p"
      },
      "execution_count": 2,
      "outputs": []
    },
    {
      "cell_type": "code",
      "source": [
        "%%writefile app.py\n",
        "import streamlit as st\n",
        "from gtts import gTTS\n",
        "from pydub import AudioSegment\n",
        "import tempfile\n",
        "import os\n",
        "\n",
        "st.title(\"🗣️ Generate Narration from Text\")\n",
        "\n",
        "text_input = st.text_area(\"🎤 Enter text to convert into speech:\")\n",
        "\n",
        "file_format = st.radio(\"Choose audio format:\", options=[\"MP3\", \"WAV\"])\n",
        "\n",
        "if st.button(\"🔊 Generate Voice\"):\n",
        "    if not text_input.strip():\n",
        "        st.warning(\"Please enter some text.\")\n",
        "    else:\n",
        "        with st.spinner(\"Generating speech...\"):\n",
        "            tts = gTTS(text_input)\n",
        "            with tempfile.NamedTemporaryFile(delete=False, suffix=\".mp3\") as mp3_file:\n",
        "                tts.save(mp3_file.name)\n",
        "                mp3_path = mp3_file.name\n",
        "\n",
        "            if file_format == \"WAV\":\n",
        "                wav_path = mp3_path.replace(\".mp3\", \".wav\")\n",
        "                AudioSegment.from_mp3(mp3_path).export(wav_path, format=\"wav\")\n",
        "                audio_path = wav_path\n",
        "            else:\n",
        "                audio_path = mp3_path\n",
        "\n",
        "        st.success(\"✅ Voice generated!\")\n",
        "        st.audio(audio_path)\n",
        "\n",
        "        with open(audio_path, \"rb\") as f:\n",
        "            st.download_button(f\"⬇️ Download Narration ({file_format})\", f.read(),\n",
        "                               file_name=f\"narration.{file_format.lower()}\",\n",
        "                               mime=f\"audio/{file_format.lower()}\")\n"
      ],
      "metadata": {
        "colab": {
          "base_uri": "https://localhost:8080/"
        },
        "id": "TZForXhICe5D",
        "outputId": "c61f4720-e270-43a3-e5d3-c4239ec1e805"
      },
      "execution_count": 5,
      "outputs": [
        {
          "output_type": "stream",
          "name": "stdout",
          "text": [
            "Overwriting app.py\n"
          ]
        }
      ]
    },
    {
      "cell_type": "code",
      "source": [
        "!npm install localtunnel"
      ],
      "metadata": {
        "colab": {
          "base_uri": "https://localhost:8080/"
        },
        "id": "U7E7pg3VDqdj",
        "outputId": "f3f1e6dd-84c5-4197-a92e-3651438be8bc"
      },
      "execution_count": 6,
      "outputs": [
        {
          "output_type": "stream",
          "name": "stdout",
          "text": [
            "\u001b[1G\u001b[0K⠙\u001b[1G\u001b[0K⠹\u001b[1G\u001b[0K⠸\u001b[1G\u001b[0K⠼\u001b[1G\u001b[0K⠴\u001b[1G\u001b[0K⠦\u001b[1G\u001b[0K\n",
            "up to date, audited 23 packages in 1s\n",
            "\u001b[1G\u001b[0K⠦\u001b[1G\u001b[0K\n",
            "\u001b[1G\u001b[0K⠦\u001b[1G\u001b[0K3 packages are looking for funding\n",
            "\u001b[1G\u001b[0K⠦\u001b[1G\u001b[0K  run `npm fund` for details\n",
            "\u001b[1G\u001b[0K⠦\u001b[1G\u001b[0K\n",
            "2 \u001b[31m\u001b[1mhigh\u001b[22m\u001b[39m severity vulnerabilities\n",
            "\n",
            "To address all issues (including breaking changes), run:\n",
            "  npm audit fix --force\n",
            "\n",
            "Run `npm audit` for details.\n",
            "\u001b[1G\u001b[0K⠦\u001b[1G\u001b[0K"
          ]
        }
      ]
    },
    {
      "cell_type": "code",
      "source": [
        "!streamlit run app.py &>/content/logs.txt & npx localtunnel --port 8501 & curl ipv4.icanhazip.com"
      ],
      "metadata": {
        "colab": {
          "base_uri": "https://localhost:8080/"
        },
        "id": "BkIQlSONDvdi",
        "outputId": "0d3a65b7-b3e4-4b5a-8cc4-45ddf13b3d2d"
      },
      "execution_count": null,
      "outputs": [
        {
          "output_type": "stream",
          "name": "stdout",
          "text": [
            "34.145.205.0\n",
            "\u001b[1G\u001b[0K⠙\u001b[1G\u001b[0Kyour url is: https://free-ads-invent.loca.lt\n"
          ]
        }
      ]
    }
  ]
}